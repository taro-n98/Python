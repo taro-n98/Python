{
 "cells": [
  {
   "cell_type": "markdown",
   "metadata": {},
   "source": [
    "# 独習 Python\n",
    "### （著）山田祥寛"
   ]
  },
  {
   "cell_type": "markdown",
   "metadata": {},
   "source": [
    "## 制御構文"
   ]
  },
  {
   "cell_type": "code",
   "execution_count": 21,
   "metadata": {},
   "outputs": [
    {
     "name": "stdout",
     "output_type": "stream",
     "text": [
      "大変良いです。\n"
     ]
    }
   ],
   "source": [
    "# 辞書型を利用した多岐分岐\n",
    "rank = '甲'\n",
    "msg = {\n",
    "    '甲':'大変良いです。',\n",
    "    '乙':'良いです。',\n",
    "    '丙':'頑張りましょう。'\n",
    "}\n",
    "\n",
    "# キーの有無を確認\n",
    "if rank in msg:\n",
    "    print(msg[rank])\n",
    "else:\n",
    "    print('???')"
   ]
  },
  {
   "cell_type": "code",
   "execution_count": 22,
   "metadata": {},
   "outputs": [
    {
     "name": "stdout",
     "output_type": "stream",
     "text": [
      "変数iは1ですが、jは1ではありません、\n"
     ]
    }
   ],
   "source": [
    "# 制御命令同士の入れ子構造（ネストする）\n",
    "i = 1\n",
    "j = 0\n",
    "\n",
    "if i == 1:\n",
    "    if j == 1:\n",
    "        print('変数i,jは1です。')\n",
    "    else:\n",
    "        print('変数iは1ですが、jは1ではありません、')\n",
    "else:\n",
    "    print('変数iは1ではありません。')   \n"
   ]
  },
  {
   "cell_type": "code",
   "execution_count": 23,
   "metadata": {},
   "outputs": [
    {
     "name": "stdout",
     "output_type": "stream",
     "text": [
      "1 番目のループです。\n",
      "2 番目のループです。\n",
      "3 番目のループです。\n",
      "4 番目のループです。\n",
      "5 番目のループです。\n"
     ]
    }
   ],
   "source": [
    "# while文\n",
    "'''\n",
    "while 条件式:\n",
    "条件式がTrueである間、繰り返し実行すべき処理\n",
    "'''\n",
    "\n",
    "i = 1\n",
    "\n",
    "while i < 6:\n",
    "    print(i, '番目のループです。')\n",
    "    i += 1 "
   ]
  },
  {
   "cell_type": "code",
   "execution_count": 24,
   "metadata": {},
   "outputs": [
    {
     "name": "stdout",
     "output_type": "stream",
     "text": [
      "[30, 86, 14, 118, 196]\n"
     ]
    }
   ],
   "source": [
    "# リスト内包表記\n",
    "'''\n",
    "リスト内包表記\n",
    "[式 for 仮変数 in リスト]\n",
    "'''\n",
    "\n",
    "data = [15, 43, 7, 59, 98]\n",
    "data2 = [i * 2 for i in data]\n",
    "print(data2)"
   ]
  },
  {
   "cell_type": "code",
   "execution_count": 25,
   "metadata": {},
   "outputs": [
    {
     "name": "stdout",
     "output_type": "stream",
     "text": [
      "[30, 86, 14, 118, 196]\n"
     ]
    }
   ],
   "source": [
    "data = [15, 43, 7, 59, 98]\n",
    "data2 = []\n",
    "\n",
    "for i in data:\n",
    "    data2.append(i*2)\n",
    "\n",
    "print(data2)"
   ]
  },
  {
   "cell_type": "code",
   "execution_count": 26,
   "metadata": {},
   "outputs": [
    {
     "ename": "TypeError",
     "evalue": "'int' object is not callable",
     "output_type": "error",
     "traceback": [
      "\u001b[0;31m---------------------------------------------------------------------------\u001b[0m",
      "\u001b[0;31mTypeError\u001b[0m                                 Traceback (most recent call last)",
      "Cell \u001b[0;32mIn[26], line 3\u001b[0m\n\u001b[1;32m      1\u001b[0m \u001b[38;5;66;03m# 特定の値だけを抽出する\u001b[39;00m\n\u001b[1;32m      2\u001b[0m data \u001b[38;5;241m=\u001b[39m [\u001b[38;5;241m15\u001b[39m, \u001b[38;5;241m43\u001b[39m, \u001b[38;5;241m7\u001b[39m, \u001b[38;5;241m59\u001b[39m, \u001b[38;5;241m98\u001b[39m]\n\u001b[0;32m----> 3\u001b[0m data2 \u001b[38;5;241m=\u001b[39m \u001b[38;5;28;43msum\u001b[39;49m\u001b[43m(\u001b[49m\u001b[43mi\u001b[49m\u001b[43m \u001b[49m\u001b[38;5;28;43;01mfor\u001b[39;49;00m\u001b[43m \u001b[49m\u001b[43mi\u001b[49m\u001b[43m \u001b[49m\u001b[38;5;129;43;01min\u001b[39;49;00m\u001b[43m \u001b[49m\u001b[43mdata\u001b[49m\u001b[43m \u001b[49m\u001b[38;5;28;43;01mif\u001b[39;49;00m\u001b[43m \u001b[49m\u001b[43mi\u001b[49m\u001b[43m \u001b[49m\u001b[38;5;241;43m<\u001b[39;49m\u001b[43m \u001b[49m\u001b[38;5;241;43m50\u001b[39;49m\u001b[43m)\u001b[49m\n\u001b[1;32m      4\u001b[0m \u001b[38;5;28mprint\u001b[39m(data2)\n",
      "\u001b[0;31mTypeError\u001b[0m: 'int' object is not callable"
     ]
    }
   ],
   "source": [
    "# 特定の値だけを抽出する\n",
    "data = [15, 43, 7, 59, 98]\n",
    "data2 = sum(i for i in data if i < 50)\n",
    "print(data2)"
   ]
  },
  {
   "cell_type": "code",
   "execution_count": null,
   "metadata": {},
   "outputs": [
    {
     "name": "stdout",
     "output_type": "stream",
     "text": [
      "合計が1000を超えるのは、1~ 45 を加算した時です\n"
     ]
    }
   ],
   "source": [
    "# ループを中断する--break命令\n",
    "sum = 0\n",
    "\n",
    "for i in range(1,101):\n",
    "    sum += i\n",
    "    if sum > 1000:\n",
    "        break\n",
    "\n",
    "print('合計が1000を超えるのは、1~', i, 'を加算した時です')"
   ]
  },
  {
   "cell_type": "code",
   "execution_count": null,
   "metadata": {},
   "outputs": [
    {
     "name": "stdout",
     "output_type": "stream",
     "text": [
      "合計値は 2550 です。\n"
     ]
    }
   ],
   "source": [
    "# 現在の周回をスキップする--continue命令\n",
    "sum = 0\n",
    "\n",
    "# 偶数値だけ加算して合計を求める。\n",
    "for i in range(1, 101):\n",
    "    if i % 2 != 0:\n",
    "        continue\n",
    "    sum += i\n",
    "\n",
    "print('合計値は', sum, 'です。')"
   ]
  },
  {
   "cell_type": "code",
   "execution_count": null,
   "metadata": {},
   "outputs": [
    {
     "name": "stdout",
     "output_type": "stream",
     "text": [
      "2倍すると... 10.0\n"
     ]
    }
   ],
   "source": [
    "# 例外処理\n",
    "'''\n",
    "コード自体は合っているが、予期せぬ入力があった時などにエラーが起こってまう。\n",
    "例外処理：あらかじめ発生するかもしれないエラーを想定しておき、実行を継続できるよう処理する、または安全に終了させるための処理のこと\n",
    "try:\n",
    "    例外が発生するかもしれないコード\n",
    "except 例外の種類 as 例外変数:\n",
    "    例外発生時の処理\n",
    "'''\n",
    "\n",
    "# 山田などと入力するとエラーになる\n",
    "num = input('数字を入力してください')\n",
    "print('2倍すると...', float(num)*2)\n"
   ]
  },
  {
   "cell_type": "code",
   "execution_count": null,
   "metadata": {},
   "outputs": [
    {
     "name": "stdout",
     "output_type": "stream",
     "text": [
      "エラー発生： could not convert string to float: '山田'\n"
     ]
    }
   ],
   "source": [
    "# 山田と入力してみる\n",
    "# ValueErrorはエラーの種類であり、TypeErrorなど他にもexceptを下に追加できる\n",
    "try:\n",
    "    num = input('数字を入力してください')\n",
    "    print('2倍すると...', float(num)*2)\n",
    "except ValueError as ex:\n",
    "    print('エラー発生：', ex)"
   ]
  },
  {
   "cell_type": "markdown",
   "metadata": {},
   "source": [
    "### except節のさまざまな記法"
   ]
  },
  {
   "cell_type": "code",
   "execution_count": 28,
   "metadata": {},
   "outputs": [
    {
     "name": "stdout",
     "output_type": "stream",
     "text": [
      "エラーが発生しました\n"
     ]
    }
   ],
   "source": [
    "# (1) 例外変数を参照しない場合\n",
    "# 例外変数を参照する必要がない場合には、「as~」は省略できる\n",
    "try:\n",
    "    num = input('数字を入力してください')\n",
    "    print('2倍すると...', float(num)*2)\n",
    "except ValueError:\n",
    "    print('エラーが発生しました')"
   ]
  },
  {
   "cell_type": "code",
   "execution_count": 29,
   "metadata": {},
   "outputs": [
    {
     "name": "stdout",
     "output_type": "stream",
     "text": [
      "エラーが発生しました\n"
     ]
    }
   ],
   "source": [
    "# (2)複数の例外種類をまとめて捕捉したい場合\n",
    "# 例えば、ValueEror、TypeErrorに対して同じ例外処理を実装したい場合には以下のように列挙する\n",
    "try:\n",
    "    num = input('数字を入力してください')\n",
    "    print('2倍すると...', float(num)*2)\n",
    "except ValueError:\n",
    "    print('エラーが発生しました')"
   ]
  },
  {
   "cell_type": "code",
   "execution_count": 30,
   "metadata": {},
   "outputs": [
    {
     "name": "stdout",
     "output_type": "stream",
     "text": [
      "エラーが発生しました\n"
     ]
    }
   ],
   "source": [
    "# (3)すべての例外を捕捉する\n",
    "# 例外名そのものを省略することも可能（まずは例外の種類を明示することが基本）\n",
    "try:\n",
    "    num = input('数字を入力してください')\n",
    "    print('2倍すると...', float(num)*2)\n",
    "except:\n",
    "    print('エラーが発生しました')"
   ]
  },
  {
   "cell_type": "code",
   "execution_count": 31,
   "metadata": {},
   "outputs": [
    {
     "name": "stdout",
     "output_type": "stream",
     "text": [
      "入力値エラーです。\n",
      "2倍すると... 20.0\n"
     ]
    }
   ],
   "source": [
    "# 例外が発生した場合、しなかった場合の処理を定義する\n",
    "'''\n",
    "try:\n",
    "    例外が発生するかもしれないコード\n",
    "except 例外の種類 as 例外変数:\n",
    "    例外発生時の処理\n",
    "else:\n",
    "    例外が発生しなかったときの処理\n",
    "finally:\n",
    "    例外の有無に関わらず実行する処理\n",
    "'''\n",
    "\n",
    "while True:\n",
    "    try:\n",
    "        num = input('数字を入力してください:')\n",
    "        print('2倍すると...', float(num)*2)\n",
    "    except ValueError:\n",
    "        print('入力値エラーです。')\n",
    "    else:\n",
    "        break"
   ]
  },
  {
   "cell_type": "markdown",
   "metadata": {},
   "source": [
    "## 標準ライブラリ"
   ]
  },
  {
   "cell_type": "code",
   "execution_count": null,
   "metadata": {},
   "outputs": [],
   "source": []
  }
 ],
 "metadata": {
  "kernelspec": {
   "display_name": ".venv",
   "language": "python",
   "name": "python3"
  },
  "language_info": {
   "codemirror_mode": {
    "name": "ipython",
    "version": 3
   },
   "file_extension": ".py",
   "mimetype": "text/x-python",
   "name": "python",
   "nbconvert_exporter": "python",
   "pygments_lexer": "ipython3",
   "version": "3.10.13"
  }
 },
 "nbformat": 4,
 "nbformat_minor": 2
}
