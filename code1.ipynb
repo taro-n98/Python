{
 "cells": [
  {
   "cell_type": "code",
   "execution_count": 1,
   "metadata": {},
   "outputs": [
    {
     "name": "stdout",
     "output_type": "stream",
     "text": [
      "hello\n"
     ]
    }
   ],
   "source": [
    "print('hello')"
   ]
  },
  {
   "cell_type": "code",
   "execution_count": 3,
   "metadata": {},
   "outputs": [
    {
     "name": "stdout",
     "output_type": "stream",
     "text": [
      "Package           Version\n",
      "----------------- ------------\n",
      "appnope           0.1.3\n",
      "asttokens         2.4.1\n",
      "comm              0.2.1\n",
      "contourpy         1.2.0\n",
      "cycler            0.12.1\n",
      "debugpy           1.8.0\n",
      "decorator         5.1.1\n",
      "exceptiongroup    1.2.0\n",
      "executing         2.0.1\n",
      "fonttools         4.47.2\n",
      "ipykernel         6.28.0\n",
      "ipython           8.20.0\n",
      "jedi              0.19.1\n",
      "joblib            1.3.2\n",
      "jupyter_client    8.6.0\n",
      "jupyter_core      5.7.1\n",
      "kiwisolver        1.4.5\n",
      "lxml              5.1.0\n",
      "matplotlib        3.8.2\n",
      "matplotlib-inline 0.1.6\n",
      "mecab-python3     1.0.8\n",
      "nest-asyncio      1.5.8\n",
      "numpy             1.26.3\n",
      "packaging         23.2\n",
      "pandas            2.1.4\n",
      "parso             0.8.3\n",
      "pexpect           4.9.0\n",
      "pillow            10.2.0\n",
      "pip               23.0.1\n",
      "platformdirs      4.1.0\n",
      "prompt-toolkit    3.0.43\n",
      "psutil            5.9.7\n",
      "ptyprocess        0.7.0\n",
      "pure-eval         0.2.2\n",
      "Pygments          2.17.2\n",
      "pyparsing         3.1.1\n",
      "python-dateutil   2.8.2\n",
      "python-docx       1.1.0\n",
      "pytz              2023.3.post1\n",
      "pyzmq             25.1.2\n",
      "scikit-learn      1.3.2\n",
      "scipy             1.11.4\n",
      "setuptools        65.5.0\n",
      "six               1.16.0\n",
      "stack-data        0.6.3\n",
      "threadpoolctl     3.2.0\n",
      "tornado           6.4\n",
      "traitlets         5.14.1\n",
      "typing_extensions 4.9.0\n",
      "tzdata            2023.4\n",
      "wcwidth           0.2.13\n",
      "\n",
      "\u001b[1m[\u001b[0m\u001b[34;49mnotice\u001b[0m\u001b[1;39;49m]\u001b[0m\u001b[39;49m A new release of pip is available: \u001b[0m\u001b[31;49m23.0.1\u001b[0m\u001b[39;49m -> \u001b[0m\u001b[32;49m23.3.2\u001b[0m\n",
      "\u001b[1m[\u001b[0m\u001b[34;49mnotice\u001b[0m\u001b[1;39;49m]\u001b[0m\u001b[39;49m To update, run: \u001b[0m\u001b[32;49mpip install --upgrade pip\u001b[0m\n",
      "Note: you may need to restart the kernel to use updated packages.\n"
     ]
    }
   ],
   "source": [
    "pip list"
   ]
  }
 ],
 "metadata": {
  "kernelspec": {
   "display_name": ".venv",
   "language": "python",
   "name": "python3"
  },
  "language_info": {
   "codemirror_mode": {
    "name": "ipython",
    "version": 3
   },
   "file_extension": ".py",
   "mimetype": "text/x-python",
   "name": "python",
   "nbconvert_exporter": "python",
   "pygments_lexer": "ipython3",
   "version": "3.10.13"
  }
 },
 "nbformat": 4,
 "nbformat_minor": 2
}
